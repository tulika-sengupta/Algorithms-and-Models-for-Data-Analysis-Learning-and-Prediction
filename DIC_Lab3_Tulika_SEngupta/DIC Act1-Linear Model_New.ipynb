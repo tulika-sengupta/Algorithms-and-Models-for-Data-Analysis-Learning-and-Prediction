{
 "cells": [
  {
   "cell_type": "code",
   "execution_count": 127,
   "metadata": {
    "collapsed": false
   },
   "outputs": [],
   "source": [
    "library(xlsx)\n",
    "library(plyr)\n",
    "library(lattice)\n",
    "library(ggplot2)"
   ]
  },
  {
   "cell_type": "markdown",
   "metadata": {},
   "source": [
    "<html><b>PART A</b></html>"
   ]
  },
  {
   "cell_type": "markdown",
   "metadata": {},
   "source": [
    "<html><b>Reading NHL data</b></html>"
   ]
  },
  {
   "cell_type": "code",
   "execution_count": 128,
   "metadata": {
    "collapsed": false
   },
   "outputs": [
    {
     "data": {
      "text/html": [
       "<table>\n",
       "<thead><tr><th scope=col>Player</th><th scope=col>G</th><th scope=col>A</th></tr></thead>\n",
       "<tbody>\n",
       "\t<tr><td>Wayne Gretzky   </td><td>894             </td><td>1963            </td></tr>\n",
       "\t<tr><td>Mark Messier    </td><td>694             </td><td>1193            </td></tr>\n",
       "\t<tr><td>Gordie Howe     </td><td>801             </td><td>1049            </td></tr>\n",
       "\t<tr><td>Ron Francis     </td><td>549             </td><td>1249            </td></tr>\n",
       "\t<tr><td>Marcel Dionne   </td><td>731             </td><td>1040            </td></tr>\n",
       "\t<tr><td>Steve Yzerman   </td><td>692             </td><td>1063            </td></tr>\n",
       "\t<tr><td>Mario Lemieux   </td><td>690             </td><td>1033            </td></tr>\n",
       "\t<tr><td>Jaromir Jagr    </td><td>681             </td><td>1007            </td></tr>\n",
       "\t<tr><td>Joe Sakic       </td><td>625             </td><td>1016            </td></tr>\n",
       "\t<tr><td>Phil Esposito   </td><td>717             </td><td> 873            </td></tr>\n",
       "\t<tr><td>Ray Bourque     </td><td>410             </td><td>1169            </td></tr>\n",
       "\t<tr><td>Mark Recchi     </td><td>577             </td><td> 956            </td></tr>\n",
       "\t<tr><td>Paul Coffey     </td><td>396             </td><td>1135            </td></tr>\n",
       "\t<tr><td>Stan Mikita     </td><td>541             </td><td> 926            </td></tr>\n",
       "\t<tr><td>Teemu Selanne   </td><td>675             </td><td> 755            </td></tr>\n",
       "\t<tr><td>Bryan Trottier  </td><td>524             </td><td> 901            </td></tr>\n",
       "\t<tr><td>Adam Oates      </td><td>341             </td><td>1079            </td></tr>\n",
       "\t<tr><td>Doug Gilmour    </td><td>450             </td><td> 964            </td></tr>\n",
       "\t<tr><td>Dale Hawerchuk  </td><td>518             </td><td> 891            </td></tr>\n",
       "\t<tr><td>Jari Kurri      </td><td>601             </td><td> 797            </td></tr>\n",
       "\t<tr><td>Luc Robitaille  </td><td>668             </td><td> 726            </td></tr>\n",
       "\t<tr><td>Brett Hull      </td><td>741             </td><td> 650            </td></tr>\n",
       "\t<tr><td>Mike Modano     </td><td>561             </td><td> 813            </td></tr>\n",
       "\t<tr><td>John Bucyk      </td><td>556             </td><td> 813            </td></tr>\n",
       "\t<tr><td>Brendan Shanahan</td><td>656             </td><td> 698            </td></tr>\n",
       "\t<tr><td>Guy Lafleur     </td><td>560             </td><td> 793            </td></tr>\n",
       "\t<tr><td>Mats Sundin     </td><td>564             </td><td> 785            </td></tr>\n",
       "\t<tr><td>Dave Andreychuk </td><td>640             </td><td> 698            </td></tr>\n",
       "\t<tr><td>Denis Savard    </td><td>473             </td><td> 865            </td></tr>\n",
       "\t<tr><td>Mike Gartner    </td><td>708             </td><td> 627            </td></tr>\n",
       "\t<tr><td>...</td><td>...</td><td>...</td></tr>\n",
       "\t<tr><td>Alex Kovalev   </td><td>430            </td><td>599            </td></tr>\n",
       "\t<tr><td>Brian Leetch   </td><td>247            </td><td>781            </td></tr>\n",
       "\t<tr><td>Brian Bellows  </td><td>485            </td><td>537            </td></tr>\n",
       "\t<tr><td>Rod Gilbert    </td><td>406            </td><td>615            </td></tr>\n",
       "\t<tr><td>Dale Hunter    </td><td>323            </td><td>697            </td></tr>\n",
       "\t<tr><td>Pat LaFontaine </td><td>468            </td><td>545            </td></tr>\n",
       "\t<tr><td>Steve Larmer   </td><td>441            </td><td>571            </td></tr>\n",
       "\t<tr><td>Lanny Mcdonald </td><td>500            </td><td>506            </td></tr>\n",
       "\t<tr><td>Brian Propp    </td><td>425            </td><td>579            </td></tr>\n",
       "\t<tr><td>Paul Kariya    </td><td>402            </td><td>587            </td></tr>\n",
       "\t<tr><td>Rick Middleton </td><td>448            </td><td>540            </td></tr>\n",
       "\t<tr><td>David Keon     </td><td>396            </td><td>590            </td></tr>\n",
       "\t<tr><td>Andy Bathgate  </td><td>349            </td><td>624            </td></tr>\n",
       "\t<tr><td>Maurice Richard</td><td>544            </td><td>421            </td></tr>\n",
       "\t<tr><td>Kirk Muller    </td><td>357            </td><td>602            </td></tr>\n",
       "\t<tr><td>Larry Robinson </td><td>208            </td><td>750            </td></tr>\n",
       "\t<tr><td>Rick Tocchet   </td><td>440            </td><td>512            </td></tr>\n",
       "\t<tr><td>Chris Chelios  </td><td>185            </td><td>763            </td></tr>\n",
       "\t<tr><td>Jason Arnott   </td><td>417            </td><td>521            </td></tr>\n",
       "\t<tr><td>Marian Hossa   </td><td>434            </td><td>501            </td></tr>\n",
       "\t<tr><td>Steve Thomas   </td><td>421            </td><td>512            </td></tr>\n",
       "\t<tr><td>Patrik Elias   </td><td>375            </td><td>555            </td></tr>\n",
       "\t<tr><td>Neal Broten    </td><td>289            </td><td>634            </td></tr>\n",
       "\t<tr><td>Bobby Orr      </td><td>270            </td><td>645            </td></tr>\n",
       "\t<tr><td>Martin St Louis</td><td>340            </td><td>572            </td></tr>\n",
       "\t<tr><td>Gary Roberts   </td><td>438            </td><td>472            </td></tr>\n",
       "\t<tr><td>Scott Stevens  </td><td>196            </td><td>712            </td></tr>\n",
       "\t<tr><td>Tony Amonte    </td><td>416            </td><td>484            </td></tr>\n",
       "\t<tr><td>Ray Ferraro    </td><td>408            </td><td>490            </td></tr>\n",
       "\t<tr><td>Brad Park      </td><td>213            </td><td>683            </td></tr>\n",
       "</tbody>\n",
       "</table>\n"
      ],
      "text/latex": [
       "\\begin{tabular}{r|lll}\n",
       " Player & G & A\\\\\n",
       "\\hline\n",
       "\t Wayne Gretzky    & 894              & 1963            \\\\\n",
       "\t Mark Messier     & 694              & 1193            \\\\\n",
       "\t Gordie Howe      & 801              & 1049            \\\\\n",
       "\t Ron Francis      & 549              & 1249            \\\\\n",
       "\t Marcel Dionne    & 731              & 1040            \\\\\n",
       "\t Steve Yzerman    & 692              & 1063            \\\\\n",
       "\t Mario Lemieux    & 690              & 1033            \\\\\n",
       "\t Jaromir Jagr     & 681              & 1007            \\\\\n",
       "\t Joe Sakic        & 625              & 1016            \\\\\n",
       "\t Phil Esposito    & 717              &  873            \\\\\n",
       "\t Ray Bourque      & 410              & 1169            \\\\\n",
       "\t Mark Recchi      & 577              &  956            \\\\\n",
       "\t Paul Coffey      & 396              & 1135            \\\\\n",
       "\t Stan Mikita      & 541              &  926            \\\\\n",
       "\t Teemu Selanne    & 675              &  755            \\\\\n",
       "\t Bryan Trottier   & 524              &  901            \\\\\n",
       "\t Adam Oates       & 341              & 1079            \\\\\n",
       "\t Doug Gilmour     & 450              &  964            \\\\\n",
       "\t Dale Hawerchuk   & 518              &  891            \\\\\n",
       "\t Jari Kurri       & 601              &  797            \\\\\n",
       "\t Luc Robitaille   & 668              &  726            \\\\\n",
       "\t Brett Hull       & 741              &  650            \\\\\n",
       "\t Mike Modano      & 561              &  813            \\\\\n",
       "\t John Bucyk       & 556              &  813            \\\\\n",
       "\t Brendan Shanahan & 656              &  698            \\\\\n",
       "\t Guy Lafleur      & 560              &  793            \\\\\n",
       "\t Mats Sundin      & 564              &  785            \\\\\n",
       "\t Dave Andreychuk  & 640              &  698            \\\\\n",
       "\t Denis Savard     & 473              &  865            \\\\\n",
       "\t Mike Gartner     & 708              &  627            \\\\\n",
       "\t ... & ... & ...\\\\\n",
       "\t Alex Kovalev    & 430             & 599            \\\\\n",
       "\t Brian Leetch    & 247             & 781            \\\\\n",
       "\t Brian Bellows   & 485             & 537            \\\\\n",
       "\t Rod Gilbert     & 406             & 615            \\\\\n",
       "\t Dale Hunter     & 323             & 697            \\\\\n",
       "\t Pat LaFontaine  & 468             & 545            \\\\\n",
       "\t Steve Larmer    & 441             & 571            \\\\\n",
       "\t Lanny Mcdonald  & 500             & 506            \\\\\n",
       "\t Brian Propp     & 425             & 579            \\\\\n",
       "\t Paul Kariya     & 402             & 587            \\\\\n",
       "\t Rick Middleton  & 448             & 540            \\\\\n",
       "\t David Keon      & 396             & 590            \\\\\n",
       "\t Andy Bathgate   & 349             & 624            \\\\\n",
       "\t Maurice Richard & 544             & 421            \\\\\n",
       "\t Kirk Muller     & 357             & 602            \\\\\n",
       "\t Larry Robinson  & 208             & 750            \\\\\n",
       "\t Rick Tocchet    & 440             & 512            \\\\\n",
       "\t Chris Chelios   & 185             & 763            \\\\\n",
       "\t Jason Arnott    & 417             & 521            \\\\\n",
       "\t Marian Hossa    & 434             & 501            \\\\\n",
       "\t Steve Thomas    & 421             & 512            \\\\\n",
       "\t Patrik Elias    & 375             & 555            \\\\\n",
       "\t Neal Broten     & 289             & 634            \\\\\n",
       "\t Bobby Orr       & 270             & 645            \\\\\n",
       "\t Martin St Louis & 340             & 572            \\\\\n",
       "\t Gary Roberts    & 438             & 472            \\\\\n",
       "\t Scott Stevens   & 196             & 712            \\\\\n",
       "\t Tony Amonte     & 416             & 484            \\\\\n",
       "\t Ray Ferraro     & 408             & 490            \\\\\n",
       "\t Brad Park       & 213             & 683            \\\\\n",
       "\\end{tabular}\n"
      ],
      "text/markdown": [
       "\n",
       "Player | G | A | \n",
       "|---|---|---|---|---|---|---|---|---|---|---|---|---|---|---|---|---|---|---|---|---|---|---|---|---|---|---|---|---|---|---|---|---|---|---|---|---|---|---|---|---|---|---|---|---|---|---|---|---|---|---|---|---|---|---|---|---|---|---|---|---|\n",
       "| Wayne Gretzky    | 894              | 1963             | \n",
       "| Mark Messier     | 694              | 1193             | \n",
       "| Gordie Howe      | 801              | 1049             | \n",
       "| Ron Francis      | 549              | 1249             | \n",
       "| Marcel Dionne    | 731              | 1040             | \n",
       "| Steve Yzerman    | 692              | 1063             | \n",
       "| Mario Lemieux    | 690              | 1033             | \n",
       "| Jaromir Jagr     | 681              | 1007             | \n",
       "| Joe Sakic        | 625              | 1016             | \n",
       "| Phil Esposito    | 717              |  873             | \n",
       "| Ray Bourque      | 410              | 1169             | \n",
       "| Mark Recchi      | 577              |  956             | \n",
       "| Paul Coffey      | 396              | 1135             | \n",
       "| Stan Mikita      | 541              |  926             | \n",
       "| Teemu Selanne    | 675              |  755             | \n",
       "| Bryan Trottier   | 524              |  901             | \n",
       "| Adam Oates       | 341              | 1079             | \n",
       "| Doug Gilmour     | 450              |  964             | \n",
       "| Dale Hawerchuk   | 518              |  891             | \n",
       "| Jari Kurri       | 601              |  797             | \n",
       "| Luc Robitaille   | 668              |  726             | \n",
       "| Brett Hull       | 741              |  650             | \n",
       "| Mike Modano      | 561              |  813             | \n",
       "| John Bucyk       | 556              |  813             | \n",
       "| Brendan Shanahan | 656              |  698             | \n",
       "| Guy Lafleur      | 560              |  793             | \n",
       "| Mats Sundin      | 564              |  785             | \n",
       "| Dave Andreychuk  | 640              |  698             | \n",
       "| Denis Savard     | 473              |  865             | \n",
       "| Mike Gartner     | 708              |  627             | \n",
       "| ... | ... | ... | \n",
       "| Alex Kovalev    | 430             | 599             | \n",
       "| Brian Leetch    | 247             | 781             | \n",
       "| Brian Bellows   | 485             | 537             | \n",
       "| Rod Gilbert     | 406             | 615             | \n",
       "| Dale Hunter     | 323             | 697             | \n",
       "| Pat LaFontaine  | 468             | 545             | \n",
       "| Steve Larmer    | 441             | 571             | \n",
       "| Lanny Mcdonald  | 500             | 506             | \n",
       "| Brian Propp     | 425             | 579             | \n",
       "| Paul Kariya     | 402             | 587             | \n",
       "| Rick Middleton  | 448             | 540             | \n",
       "| David Keon      | 396             | 590             | \n",
       "| Andy Bathgate   | 349             | 624             | \n",
       "| Maurice Richard | 544             | 421             | \n",
       "| Kirk Muller     | 357             | 602             | \n",
       "| Larry Robinson  | 208             | 750             | \n",
       "| Rick Tocchet    | 440             | 512             | \n",
       "| Chris Chelios   | 185             | 763             | \n",
       "| Jason Arnott    | 417             | 521             | \n",
       "| Marian Hossa    | 434             | 501             | \n",
       "| Steve Thomas    | 421             | 512             | \n",
       "| Patrik Elias    | 375             | 555             | \n",
       "| Neal Broten     | 289             | 634             | \n",
       "| Bobby Orr       | 270             | 645             | \n",
       "| Martin St Louis | 340             | 572             | \n",
       "| Gary Roberts    | 438             | 472             | \n",
       "| Scott Stevens   | 196             | 712             | \n",
       "| Tony Amonte     | 416             | 484             | \n",
       "| Ray Ferraro     | 408             | 490             | \n",
       "| Brad Park       | 213             | 683             | \n",
       "\n",
       "\n"
      ],
      "text/plain": [
       "    Player           G   A   \n",
       "1   Wayne Gretzky    894 1963\n",
       "2   Mark Messier     694 1193\n",
       "3   Gordie Howe      801 1049\n",
       "4   Ron Francis      549 1249\n",
       "5   Marcel Dionne    731 1040\n",
       "6   Steve Yzerman    692 1063\n",
       "7   Mario Lemieux    690 1033\n",
       "8   Jaromir Jagr     681 1007\n",
       "9   Joe Sakic        625 1016\n",
       "10  Phil Esposito    717  873\n",
       "11  Ray Bourque      410 1169\n",
       "12  Mark Recchi      577  956\n",
       "13  Paul Coffey      396 1135\n",
       "14  Stan Mikita      541  926\n",
       "15  Teemu Selanne    675  755\n",
       "16  Bryan Trottier   524  901\n",
       "17  Adam Oates       341 1079\n",
       "18  Doug Gilmour     450  964\n",
       "19  Dale Hawerchuk   518  891\n",
       "20  Jari Kurri       601  797\n",
       "21  Luc Robitaille   668  726\n",
       "22  Brett Hull       741  650\n",
       "23  Mike Modano      561  813\n",
       "24  John Bucyk       556  813\n",
       "25  Brendan Shanahan 656  698\n",
       "26  Guy Lafleur      560  793\n",
       "27  Mats Sundin      564  785\n",
       "28  Dave Andreychuk  640  698\n",
       "29  Denis Savard     473  865\n",
       "30  Mike Gartner     708  627\n",
       "... ...              ... ... \n",
       "71  Alex Kovalev     430 599 \n",
       "72  Brian Leetch     247 781 \n",
       "73  Brian Bellows    485 537 \n",
       "74  Rod Gilbert      406 615 \n",
       "75  Dale Hunter      323 697 \n",
       "76  Pat LaFontaine   468 545 \n",
       "77  Steve Larmer     441 571 \n",
       "78  Lanny Mcdonald   500 506 \n",
       "79  Brian Propp      425 579 \n",
       "80  Paul Kariya      402 587 \n",
       "81  Rick Middleton   448 540 \n",
       "82  David Keon       396 590 \n",
       "83  Andy Bathgate    349 624 \n",
       "84  Maurice Richard  544 421 \n",
       "85  Kirk Muller      357 602 \n",
       "86  Larry Robinson   208 750 \n",
       "87  Rick Tocchet     440 512 \n",
       "88  Chris Chelios    185 763 \n",
       "89  Jason Arnott     417 521 \n",
       "90  Marian Hossa     434 501 \n",
       "91  Steve Thomas     421 512 \n",
       "92  Patrik Elias     375 555 \n",
       "93  Neal Broten      289 634 \n",
       "94  Bobby Orr        270 645 \n",
       "95  Martin St Louis  340 572 \n",
       "96  Gary Roberts     438 472 \n",
       "97  Scott Stevens    196 712 \n",
       "98  Tony Amonte      416 484 \n",
       "99  Ray Ferraro      408 490 \n",
       "100 Brad Park        213 683 "
      ]
     },
     "metadata": {},
     "output_type": "display_data"
    }
   ],
   "source": [
    "data <- read.xlsx(\"NHLTop100.xlsx\",sheetName=\"Top 100\",header=T)\n",
    "data <- data[,c(\"Player\",\"G\",\"A\")]\n",
    "data"
   ]
  },
  {
   "cell_type": "code",
   "execution_count": 129,
   "metadata": {
    "collapsed": true
   },
   "outputs": [],
   "source": [
    "top10 <- data.frame(\"G\"=data$G,\"A\"=data$A)\n",
    "#top10"
   ]
  },
  {
   "cell_type": "markdown",
   "metadata": {},
   "source": [
    "<html><b>creating a LM model</b></html>"
   ]
  },
  {
   "cell_type": "code",
   "execution_count": 130,
   "metadata": {
    "collapsed": false
   },
   "outputs": [
    {
     "data": {
      "text/plain": [
       "       G               A         \n",
       " Min.   :185.0   Min.   : 421.0  \n",
       " 1st Qu.:391.0   1st Qu.: 585.0  \n",
       " Median :470.5   Median : 700.5  \n",
       " Mean   :475.4   Mean   : 741.8  \n",
       " 3rd Qu.:550.8   3rd Qu.: 816.8  \n",
       " Max.   :894.0   Max.   :1963.0  "
      ]
     },
     "metadata": {},
     "output_type": "display_data"
    }
   ],
   "source": [
    "summary(top10)\n",
    "model <- lm(top10)"
   ]
  },
  {
   "cell_type": "markdown",
   "metadata": {},
   "source": [
    "<html><b>Noting Rsquared and p value</b></html>"
   ]
  },
  {
   "cell_type": "code",
   "execution_count": 131,
   "metadata": {
    "collapsed": false
   },
   "outputs": [
    {
     "data": {
      "text/html": [
       "0.10823050447434"
      ],
      "text/latex": [
       "0.10823050447434"
      ],
      "text/markdown": [
       "0.10823050447434"
      ],
      "text/plain": [
       "[1] 0.1082305"
      ]
     },
     "metadata": {},
     "output_type": "display_data"
    },
    {
     "data": {
      "text/html": [
       "0.00083171692385433"
      ],
      "text/latex": [
       "0.00083171692385433"
      ],
      "text/markdown": [
       "0.00083171692385433"
      ],
      "text/plain": [
       "[1] 0.0008317169"
      ]
     },
     "metadata": {},
     "output_type": "display_data"
    }
   ],
   "source": [
    "summary(model)$r.squared    #r squared\n",
    "summary(model)$coefficients[2,4]   #p-value"
   ]
  },
  {
   "cell_type": "code",
   "execution_count": 132,
   "metadata": {
    "collapsed": false
   },
   "outputs": [
    {
     "data": {
      "image/png": "[encoded data removed]",
      "text/plain": [
       "plot without title"
      ]
     },
     "metadata": {},
     "output_type": "display_data"
    }
   ],
   "source": [
    "plot(top10,pch=19,ylim=c(100,2000),panel.first=abline(h=c(0,50),v=c(0,10),lty=3,col=\"red\"),col=\"red\")  #dont use this.\n",
    "abline(lm(A~G, data=top10))"
   ]
  },
  {
   "cell_type": "markdown",
   "metadata": {},
   "source": [
    "<html><b>PART B</b></html>"
   ]
  },
  {
   "cell_type": "markdown",
   "metadata": {},
   "source": [
    "<html><b>Passing the line through Wayne Gretzky</b></html>"
   ]
  },
  {
   "cell_type": "code",
   "execution_count": 133,
   "metadata": {
    "collapsed": false
   },
   "outputs": [
    {
     "data": {
      "text/plain": [
       "\n",
       "Call:\n",
       "lm(formula = I(data$A - 1963) ~ I(data$G - 894))\n",
       "\n",
       "Coefficients:\n",
       "    (Intercept)  I(data$G - 894)  \n",
       "     -1003.4220           0.5202  \n"
      ]
     },
     "metadata": {},
     "output_type": "display_data"
    }
   ],
   "source": [
    "model_1 <- lm(I(data$A-1963) ~ I(data$G-894))\n",
    "model_1"
   ]
  },
  {
   "cell_type": "code",
   "execution_count": 134,
   "metadata": {
    "collapsed": false
   },
   "outputs": [
    {
     "data": {
      "text/plain": [
       "\n",
       "Call:\n",
       "lm(formula = I(data$A + 1003.422) ~ I(data$G), data = top10)\n",
       "\n",
       "Residuals:\n",
       "    Min      1Q  Median      3Q     Max \n",
       "-356.51 -158.59  -10.29  125.08 1003.42 \n",
       "\n",
       "Coefficients:\n",
       "             Estimate Std. Error t value Pr(>|t|)    \n",
       "(Intercept) 1497.9355    74.6410  20.069  < 2e-16 ***\n",
       "I(data$G)      0.5202     0.1508   3.449 0.000832 ***\n",
       "---\n",
       "Signif. codes:  0 '***' 0.001 '**' 0.01 '*' 0.05 '.' 0.1 ' ' 1\n",
       "\n",
       "Residual standard error: 207 on 98 degrees of freedom\n",
       "Multiple R-squared:  0.1082,\tAdjusted R-squared:  0.09913 \n",
       "F-statistic: 11.89 on 1 and 98 DF,  p-value: 0.0008317\n"
      ]
     },
     "metadata": {},
     "output_type": "display_data"
    }
   ],
   "source": [
    "model_wayne <- lm(I(data$A+1003.4220) ~ I(data$G), data = top10)\n",
    "summary(model_wayne)"
   ]
  },
  {
   "cell_type": "code",
   "execution_count": 135,
   "metadata": {
    "collapsed": false
   },
   "outputs": [
    {
     "data": {
      "text/html": [
       "1497.93552329599"
      ],
      "text/latex": [
       "1497.93552329599"
      ],
      "text/markdown": [
       "1497.93552329599"
      ],
      "text/plain": [
       "[1] 1497.936"
      ]
     },
     "metadata": {},
     "output_type": "display_data"
    },
    {
     "data": {
      "text/html": [
       "0.520206294863516"
      ],
      "text/latex": [
       "0.520206294863516"
      ],
      "text/markdown": [
       "0.520206294863516"
      ],
      "text/plain": [
       "[1] 0.5202063"
      ]
     },
     "metadata": {},
     "output_type": "display_data"
    }
   ],
   "source": [
    "intercept_wayne <- summary(model_wayne)$coefficients[1,1]\n",
    "slope_wayne <- summary(model_wayne)$coefficients[2,1]\n",
    "intercept_wayne\n",
    "slope_wayne"
   ]
  },
  {
   "cell_type": "code",
   "execution_count": 136,
   "metadata": {
    "collapsed": false
   },
   "outputs": [
    {
     "data": {
      "image/png": "[encoded data removed]",
      "text/plain": [
       "plot without title"
      ]
     },
     "metadata": {},
     "output_type": "display_data"
    }
   ],
   "source": [
    "plot(top10,pch=19,ylim=c(0,2000),panel.first=abline(h=c(0,50),v=c(0,10),lty=3,col=\"red\"),col=\"red\")  #dont use this.\n",
    "abline(intercept_wayne,slope_wayne)\n",
    "#abline(lm(I(A-1963)~I(G-894)+0, data=top10))"
   ]
  },
  {
   "cell_type": "markdown",
   "metadata": {},
   "source": [
    "<html><b>Noting R squared and p values</b></html>"
   ]
  },
  {
   "cell_type": "code",
   "execution_count": 137,
   "metadata": {
    "collapsed": false
   },
   "outputs": [
    {
     "data": {
      "text/html": [
       "0.108230504474341"
      ],
      "text/latex": [
       "0.108230504474341"
      ],
      "text/markdown": [
       "0.108230504474341"
      ],
      "text/plain": [
       "[1] 0.1082305"
      ]
     },
     "metadata": {},
     "output_type": "display_data"
    },
    {
     "data": {
      "text/html": [
       "0.000831716923854338"
      ],
      "text/latex": [
       "0.000831716923854338"
      ],
      "text/markdown": [
       "0.000831716923854338"
      ],
      "text/plain": [
       "[1] 0.0008317169"
      ]
     },
     "metadata": {},
     "output_type": "display_data"
    }
   ],
   "source": [
    "summary(model_wayne)$r.squared    #r squared\n",
    "summary(model_wayne)$coefficients[2,4]   #p-value"
   ]
  },
  {
   "cell_type": "markdown",
   "metadata": {},
   "source": [
    "<html><b>PART C</b><html>"
   ]
  },
  {
   "cell_type": "markdown",
   "metadata": {},
   "source": [
    "<html><b>Adding the Goals and assists values for Patrick Kane</b></html>"
   ]
  },
  {
   "cell_type": "code",
   "execution_count": 138,
   "metadata": {
    "collapsed": false
   },
   "outputs": [
    {
     "data": {
      "text/html": [
       "<table>\n",
       "<thead><tr><th scope=col>Player</th><th scope=col>G</th><th scope=col>A</th></tr></thead>\n",
       "<tbody>\n",
       "\t<tr><td>Patrick Kane</td><td>285         </td><td>465         </td></tr>\n",
       "</tbody>\n",
       "</table>\n"
      ],
      "text/latex": [
       "\\begin{tabular}{r|lll}\n",
       " Player & G & A\\\\\n",
       "\\hline\n",
       "\t Patrick Kane & 285          & 465         \\\\\n",
       "\\end{tabular}\n"
      ],
      "text/markdown": [
       "\n",
       "Player | G | A | \n",
       "|---|\n",
       "| Patrick Kane | 285          | 465          | \n",
       "\n",
       "\n"
      ],
      "text/plain": [
       "  Player       G   A  \n",
       "1 Patrick Kane 285 465"
      ]
     },
     "metadata": {},
     "output_type": "display_data"
    }
   ],
   "source": [
    "patrick_kane <- data.frame(Player = \"Patrick Kane\", G =285, A=465)\n",
    "patrick_kane"
   ]
  },
  {
   "cell_type": "code",
   "execution_count": 139,
   "metadata": {
    "collapsed": false
   },
   "outputs": [
    {
     "data": {
      "text/html": [
       "<table>\n",
       "<thead><tr><th scope=col>Player</th><th scope=col>G</th><th scope=col>A</th></tr></thead>\n",
       "<tbody>\n",
       "\t<tr><td>Wayne Gretzky   </td><td>894             </td><td>1963            </td></tr>\n",
       "\t<tr><td>Mark Messier    </td><td>694             </td><td>1193            </td></tr>\n",
       "\t<tr><td>Gordie Howe     </td><td>801             </td><td>1049            </td></tr>\n",
       "\t<tr><td>Ron Francis     </td><td>549             </td><td>1249            </td></tr>\n",
       "\t<tr><td>Marcel Dionne   </td><td>731             </td><td>1040            </td></tr>\n",
       "\t<tr><td>Steve Yzerman   </td><td>692             </td><td>1063            </td></tr>\n",
       "\t<tr><td>Mario Lemieux   </td><td>690             </td><td>1033            </td></tr>\n",
       "\t<tr><td>Jaromir Jagr    </td><td>681             </td><td>1007            </td></tr>\n",
       "\t<tr><td>Joe Sakic       </td><td>625             </td><td>1016            </td></tr>\n",
       "\t<tr><td>Phil Esposito   </td><td>717             </td><td> 873            </td></tr>\n",
       "\t<tr><td>Ray Bourque     </td><td>410             </td><td>1169            </td></tr>\n",
       "\t<tr><td>Mark Recchi     </td><td>577             </td><td> 956            </td></tr>\n",
       "\t<tr><td>Paul Coffey     </td><td>396             </td><td>1135            </td></tr>\n",
       "\t<tr><td>Stan Mikita     </td><td>541             </td><td> 926            </td></tr>\n",
       "\t<tr><td>Teemu Selanne   </td><td>675             </td><td> 755            </td></tr>\n",
       "\t<tr><td>Bryan Trottier  </td><td>524             </td><td> 901            </td></tr>\n",
       "\t<tr><td>Adam Oates      </td><td>341             </td><td>1079            </td></tr>\n",
       "\t<tr><td>Doug Gilmour    </td><td>450             </td><td> 964            </td></tr>\n",
       "\t<tr><td>Dale Hawerchuk  </td><td>518             </td><td> 891            </td></tr>\n",
       "\t<tr><td>Jari Kurri      </td><td>601             </td><td> 797            </td></tr>\n",
       "\t<tr><td>Luc Robitaille  </td><td>668             </td><td> 726            </td></tr>\n",
       "\t<tr><td>Brett Hull      </td><td>741             </td><td> 650            </td></tr>\n",
       "\t<tr><td>Mike Modano     </td><td>561             </td><td> 813            </td></tr>\n",
       "\t<tr><td>John Bucyk      </td><td>556             </td><td> 813            </td></tr>\n",
       "\t<tr><td>Brendan Shanahan</td><td>656             </td><td> 698            </td></tr>\n",
       "\t<tr><td>Guy Lafleur     </td><td>560             </td><td> 793            </td></tr>\n",
       "\t<tr><td>Mats Sundin     </td><td>564             </td><td> 785            </td></tr>\n",
       "\t<tr><td>Dave Andreychuk </td><td>640             </td><td> 698            </td></tr>\n",
       "\t<tr><td>Denis Savard    </td><td>473             </td><td> 865            </td></tr>\n",
       "\t<tr><td>Mike Gartner    </td><td>708             </td><td> 627            </td></tr>\n",
       "\t<tr><td>...</td><td>...</td><td>...</td></tr>\n",
       "\t<tr><td>Brian Leetch   </td><td>247            </td><td>781            </td></tr>\n",
       "\t<tr><td>Brian Bellows  </td><td>485            </td><td>537            </td></tr>\n",
       "\t<tr><td>Rod Gilbert    </td><td>406            </td><td>615            </td></tr>\n",
       "\t<tr><td>Dale Hunter    </td><td>323            </td><td>697            </td></tr>\n",
       "\t<tr><td>Pat LaFontaine </td><td>468            </td><td>545            </td></tr>\n",
       "\t<tr><td>Steve Larmer   </td><td>441            </td><td>571            </td></tr>\n",
       "\t<tr><td>Lanny Mcdonald </td><td>500            </td><td>506            </td></tr>\n",
       "\t<tr><td>Brian Propp    </td><td>425            </td><td>579            </td></tr>\n",
       "\t<tr><td>Paul Kariya    </td><td>402            </td><td>587            </td></tr>\n",
       "\t<tr><td>Rick Middleton </td><td>448            </td><td>540            </td></tr>\n",
       "\t<tr><td>David Keon     </td><td>396            </td><td>590            </td></tr>\n",
       "\t<tr><td>Andy Bathgate  </td><td>349            </td><td>624            </td></tr>\n",
       "\t<tr><td>Maurice Richard</td><td>544            </td><td>421            </td></tr>\n",
       "\t<tr><td>Kirk Muller    </td><td>357            </td><td>602            </td></tr>\n",
       "\t<tr><td>Larry Robinson </td><td>208            </td><td>750            </td></tr>\n",
       "\t<tr><td>Rick Tocchet   </td><td>440            </td><td>512            </td></tr>\n",
       "\t<tr><td>Chris Chelios  </td><td>185            </td><td>763            </td></tr>\n",
       "\t<tr><td>Jason Arnott   </td><td>417            </td><td>521            </td></tr>\n",
       "\t<tr><td>Marian Hossa   </td><td>434            </td><td>501            </td></tr>\n",
       "\t<tr><td>Steve Thomas   </td><td>421            </td><td>512            </td></tr>\n",
       "\t<tr><td>Patrik Elias   </td><td>375            </td><td>555            </td></tr>\n",
       "\t<tr><td>Neal Broten    </td><td>289            </td><td>634            </td></tr>\n",
       "\t<tr><td>Bobby Orr      </td><td>270            </td><td>645            </td></tr>\n",
       "\t<tr><td>Martin St Louis</td><td>340            </td><td>572            </td></tr>\n",
       "\t<tr><td>Gary Roberts   </td><td>438            </td><td>472            </td></tr>\n",
       "\t<tr><td>Scott Stevens  </td><td>196            </td><td>712            </td></tr>\n",
       "\t<tr><td>Tony Amonte    </td><td>416            </td><td>484            </td></tr>\n",
       "\t<tr><td>Ray Ferraro    </td><td>408            </td><td>490            </td></tr>\n",
       "\t<tr><td>Brad Park      </td><td>213            </td><td>683            </td></tr>\n",
       "\t<tr><td>Patrick Kane   </td><td>285            </td><td>465            </td></tr>\n",
       "</tbody>\n",
       "</table>\n"
      ],
      "text/latex": [
       "\\begin{tabular}{r|lll}\n",
       " Player & G & A\\\\\n",
       "\\hline\n",
       "\t Wayne Gretzky    & 894              & 1963            \\\\\n",
       "\t Mark Messier     & 694              & 1193            \\\\\n",
       "\t Gordie Howe      & 801              & 1049            \\\\\n",
       "\t Ron Francis      & 549              & 1249            \\\\\n",
       "\t Marcel Dionne    & 731              & 1040            \\\\\n",
       "\t Steve Yzerman    & 692              & 1063            \\\\\n",
       "\t Mario Lemieux    & 690              & 1033            \\\\\n",
       "\t Jaromir Jagr     & 681              & 1007            \\\\\n",
       "\t Joe Sakic        & 625              & 1016            \\\\\n",
       "\t Phil Esposito    & 717              &  873            \\\\\n",
       "\t Ray Bourque      & 410              & 1169            \\\\\n",
       "\t Mark Recchi      & 577              &  956            \\\\\n",
       "\t Paul Coffey      & 396              & 1135            \\\\\n",
       "\t Stan Mikita      & 541              &  926            \\\\\n",
       "\t Teemu Selanne    & 675              &  755            \\\\\n",
       "\t Bryan Trottier   & 524              &  901            \\\\\n",
       "\t Adam Oates       & 341              & 1079            \\\\\n",
       "\t Doug Gilmour     & 450              &  964            \\\\\n",
       "\t Dale Hawerchuk   & 518              &  891            \\\\\n",
       "\t Jari Kurri       & 601              &  797            \\\\\n",
       "\t Luc Robitaille   & 668              &  726            \\\\\n",
       "\t Brett Hull       & 741              &  650            \\\\\n",
       "\t Mike Modano      & 561              &  813            \\\\\n",
       "\t John Bucyk       & 556              &  813            \\\\\n",
       "\t Brendan Shanahan & 656              &  698            \\\\\n",
       "\t Guy Lafleur      & 560              &  793            \\\\\n",
       "\t Mats Sundin      & 564              &  785            \\\\\n",
       "\t Dave Andreychuk  & 640              &  698            \\\\\n",
       "\t Denis Savard     & 473              &  865            \\\\\n",
       "\t Mike Gartner     & 708              &  627            \\\\\n",
       "\t ... & ... & ...\\\\\n",
       "\t Brian Leetch    & 247             & 781            \\\\\n",
       "\t Brian Bellows   & 485             & 537            \\\\\n",
       "\t Rod Gilbert     & 406             & 615            \\\\\n",
       "\t Dale Hunter     & 323             & 697            \\\\\n",
       "\t Pat LaFontaine  & 468             & 545            \\\\\n",
       "\t Steve Larmer    & 441             & 571            \\\\\n",
       "\t Lanny Mcdonald  & 500             & 506            \\\\\n",
       "\t Brian Propp     & 425             & 579            \\\\\n",
       "\t Paul Kariya     & 402             & 587            \\\\\n",
       "\t Rick Middleton  & 448             & 540            \\\\\n",
       "\t David Keon      & 396             & 590            \\\\\n",
       "\t Andy Bathgate   & 349             & 624            \\\\\n",
       "\t Maurice Richard & 544             & 421            \\\\\n",
       "\t Kirk Muller     & 357             & 602            \\\\\n",
       "\t Larry Robinson  & 208             & 750            \\\\\n",
       "\t Rick Tocchet    & 440             & 512            \\\\\n",
       "\t Chris Chelios   & 185             & 763            \\\\\n",
       "\t Jason Arnott    & 417             & 521            \\\\\n",
       "\t Marian Hossa    & 434             & 501            \\\\\n",
       "\t Steve Thomas    & 421             & 512            \\\\\n",
       "\t Patrik Elias    & 375             & 555            \\\\\n",
       "\t Neal Broten     & 289             & 634            \\\\\n",
       "\t Bobby Orr       & 270             & 645            \\\\\n",
       "\t Martin St Louis & 340             & 572            \\\\\n",
       "\t Gary Roberts    & 438             & 472            \\\\\n",
       "\t Scott Stevens   & 196             & 712            \\\\\n",
       "\t Tony Amonte     & 416             & 484            \\\\\n",
       "\t Ray Ferraro     & 408             & 490            \\\\\n",
       "\t Brad Park       & 213             & 683            \\\\\n",
       "\t Patrick Kane    & 285             & 465            \\\\\n",
       "\\end{tabular}\n"
      ],
      "text/markdown": [
       "\n",
       "Player | G | A | \n",
       "|---|---|---|---|---|---|---|---|---|---|---|---|---|---|---|---|---|---|---|---|---|---|---|---|---|---|---|---|---|---|---|---|---|---|---|---|---|---|---|---|---|---|---|---|---|---|---|---|---|---|---|---|---|---|---|---|---|---|---|---|---|\n",
       "| Wayne Gretzky    | 894              | 1963             | \n",
       "| Mark Messier     | 694              | 1193             | \n",
       "| Gordie Howe      | 801              | 1049             | \n",
       "| Ron Francis      | 549              | 1249             | \n",
       "| Marcel Dionne    | 731              | 1040             | \n",
       "| Steve Yzerman    | 692              | 1063             | \n",
       "| Mario Lemieux    | 690              | 1033             | \n",
       "| Jaromir Jagr     | 681              | 1007             | \n",
       "| Joe Sakic        | 625              | 1016             | \n",
       "| Phil Esposito    | 717              |  873             | \n",
       "| Ray Bourque      | 410              | 1169             | \n",
       "| Mark Recchi      | 577              |  956             | \n",
       "| Paul Coffey      | 396              | 1135             | \n",
       "| Stan Mikita      | 541              |  926             | \n",
       "| Teemu Selanne    | 675              |  755             | \n",
       "| Bryan Trottier   | 524              |  901             | \n",
       "| Adam Oates       | 341              | 1079             | \n",
       "| Doug Gilmour     | 450              |  964             | \n",
       "| Dale Hawerchuk   | 518              |  891             | \n",
       "| Jari Kurri       | 601              |  797             | \n",
       "| Luc Robitaille   | 668              |  726             | \n",
       "| Brett Hull       | 741              |  650             | \n",
       "| Mike Modano      | 561              |  813             | \n",
       "| John Bucyk       | 556              |  813             | \n",
       "| Brendan Shanahan | 656              |  698             | \n",
       "| Guy Lafleur      | 560              |  793             | \n",
       "| Mats Sundin      | 564              |  785             | \n",
       "| Dave Andreychuk  | 640              |  698             | \n",
       "| Denis Savard     | 473              |  865             | \n",
       "| Mike Gartner     | 708              |  627             | \n",
       "| ... | ... | ... | \n",
       "| Brian Leetch    | 247             | 781             | \n",
       "| Brian Bellows   | 485             | 537             | \n",
       "| Rod Gilbert     | 406             | 615             | \n",
       "| Dale Hunter     | 323             | 697             | \n",
       "| Pat LaFontaine  | 468             | 545             | \n",
       "| Steve Larmer    | 441             | 571             | \n",
       "| Lanny Mcdonald  | 500             | 506             | \n",
       "| Brian Propp     | 425             | 579             | \n",
       "| Paul Kariya     | 402             | 587             | \n",
       "| Rick Middleton  | 448             | 540             | \n",
       "| David Keon      | 396             | 590             | \n",
       "| Andy Bathgate   | 349             | 624             | \n",
       "| Maurice Richard | 544             | 421             | \n",
       "| Kirk Muller     | 357             | 602             | \n",
       "| Larry Robinson  | 208             | 750             | \n",
       "| Rick Tocchet    | 440             | 512             | \n",
       "| Chris Chelios   | 185             | 763             | \n",
       "| Jason Arnott    | 417             | 521             | \n",
       "| Marian Hossa    | 434             | 501             | \n",
       "| Steve Thomas    | 421             | 512             | \n",
       "| Patrik Elias    | 375             | 555             | \n",
       "| Neal Broten     | 289             | 634             | \n",
       "| Bobby Orr       | 270             | 645             | \n",
       "| Martin St Louis | 340             | 572             | \n",
       "| Gary Roberts    | 438             | 472             | \n",
       "| Scott Stevens   | 196             | 712             | \n",
       "| Tony Amonte     | 416             | 484             | \n",
       "| Ray Ferraro     | 408             | 490             | \n",
       "| Brad Park       | 213             | 683             | \n",
       "| Patrick Kane    | 285             | 465             | \n",
       "\n",
       "\n"
      ],
      "text/plain": [
       "    Player           G   A   \n",
       "1   Wayne Gretzky    894 1963\n",
       "2   Mark Messier     694 1193\n",
       "3   Gordie Howe      801 1049\n",
       "4   Ron Francis      549 1249\n",
       "5   Marcel Dionne    731 1040\n",
       "6   Steve Yzerman    692 1063\n",
       "7   Mario Lemieux    690 1033\n",
       "8   Jaromir Jagr     681 1007\n",
       "9   Joe Sakic        625 1016\n",
       "10  Phil Esposito    717  873\n",
       "11  Ray Bourque      410 1169\n",
       "12  Mark Recchi      577  956\n",
       "13  Paul Coffey      396 1135\n",
       "14  Stan Mikita      541  926\n",
       "15  Teemu Selanne    675  755\n",
       "16  Bryan Trottier   524  901\n",
       "17  Adam Oates       341 1079\n",
       "18  Doug Gilmour     450  964\n",
       "19  Dale Hawerchuk   518  891\n",
       "20  Jari Kurri       601  797\n",
       "21  Luc Robitaille   668  726\n",
       "22  Brett Hull       741  650\n",
       "23  Mike Modano      561  813\n",
       "24  John Bucyk       556  813\n",
       "25  Brendan Shanahan 656  698\n",
       "26  Guy Lafleur      560  793\n",
       "27  Mats Sundin      564  785\n",
       "28  Dave Andreychuk  640  698\n",
       "29  Denis Savard     473  865\n",
       "30  Mike Gartner     708  627\n",
       "... ...              ... ... \n",
       "72  Brian Leetch     247 781 \n",
       "73  Brian Bellows    485 537 \n",
       "74  Rod Gilbert      406 615 \n",
       "75  Dale Hunter      323 697 \n",
       "76  Pat LaFontaine   468 545 \n",
       "77  Steve Larmer     441 571 \n",
       "78  Lanny Mcdonald   500 506 \n",
       "79  Brian Propp      425 579 \n",
       "80  Paul Kariya      402 587 \n",
       "81  Rick Middleton   448 540 \n",
       "82  David Keon       396 590 \n",
       "83  Andy Bathgate    349 624 \n",
       "84  Maurice Richard  544 421 \n",
       "85  Kirk Muller      357 602 \n",
       "86  Larry Robinson   208 750 \n",
       "87  Rick Tocchet     440 512 \n",
       "88  Chris Chelios    185 763 \n",
       "89  Jason Arnott     417 521 \n",
       "90  Marian Hossa     434 501 \n",
       "91  Steve Thomas     421 512 \n",
       "92  Patrik Elias     375 555 \n",
       "93  Neal Broten      289 634 \n",
       "94  Bobby Orr        270 645 \n",
       "95  Martin St Louis  340 572 \n",
       "96  Gary Roberts     438 472 \n",
       "97  Scott Stevens    196 712 \n",
       "98  Tony Amonte      416 484 \n",
       "99  Ray Ferraro      408 490 \n",
       "100 Brad Park        213 683 \n",
       "101 Patrick Kane     285 465 "
      ]
     },
     "metadata": {},
     "output_type": "display_data"
    }
   ],
   "source": [
    "data_patrick <- rbind(data,patrick_kane)\n",
    "data_patrick"
   ]
  },
  {
   "cell_type": "markdown",
   "metadata": {
    "collapsed": false
   },
   "source": [
    "<html><b>Passing the line through Patrick Kane</b></html>"
   ]
  },
  {
   "cell_type": "code",
   "execution_count": 140,
   "metadata": {
    "collapsed": false
   },
   "outputs": [
    {
     "data": {
      "text/plain": [
       "\n",
       "Call:\n",
       "lm(formula = I(data_patrick$A - 465) ~ I(data_patrick$G - 285))\n",
       "\n",
       "Coefficients:\n",
       "            (Intercept)  I(data_patrick$G - 285)  \n",
       "               172.7210                   0.5377  \n"
      ]
     },
     "metadata": {},
     "output_type": "display_data"
    }
   ],
   "source": [
    "model_2 <- lm(I(data_patrick$A-465) ~ I(data_patrick$G-285))\n",
    "model_2"
   ]
  },
  {
   "cell_type": "code",
   "execution_count": 141,
   "metadata": {
    "collapsed": false
   },
   "outputs": [
    {
     "data": {
      "text/plain": [
       "\n",
       "Call:\n",
       "lm(formula = I(data_patrick$A - 172.721) ~ I(data_patrick$G), \n",
       "    data = top10)\n",
       "\n",
       "Residuals:\n",
       "    Min      1Q  Median      3Q     Max \n",
       "-355.98 -172.72   -8.94  126.20  997.84 \n",
       "\n",
       "Coefficients:\n",
       "                  Estimate Std. Error t value Pr(>|t|)    \n",
       "(Intercept)       311.7661    73.5891   4.237 5.09e-05 ***\n",
       "I(data_patrick$G)   0.5377     0.1492   3.603 0.000493 ***\n",
       "---\n",
       "Signif. codes:  0 '***' 0.001 '**' 0.01 '*' 0.05 '.' 0.1 ' ' 1\n",
       "\n",
       "Residual standard error: 206.7 on 99 degrees of freedom\n",
       "Multiple R-squared:  0.116,\tAdjusted R-squared:  0.107 \n",
       "F-statistic: 12.98 on 1 and 99 DF,  p-value: 0.0004934\n"
      ]
     },
     "metadata": {},
     "output_type": "display_data"
    }
   ],
   "source": [
    "model_patrick <- lm(I(data_patrick$A-172.7210) ~ I(data_patrick$G), data = top10)\n",
    "summary(model_patrick)"
   ]
  },
  {
   "cell_type": "code",
   "execution_count": 151,
   "metadata": {
    "collapsed": false
   },
   "outputs": [
    {
     "data": {
      "text/html": [
       "311.766052167893"
      ],
      "text/latex": [
       "311.766052167893"
      ],
      "text/markdown": [
       "311.766052167893"
      ],
      "text/plain": [
       "[1] 311.7661"
      ]
     },
     "metadata": {},
     "output_type": "display_data"
    },
    {
     "data": {
      "text/html": [
       "0.537662988082942"
      ],
      "text/latex": [
       "0.537662988082942"
      ],
      "text/markdown": [
       "0.537662988082942"
      ],
      "text/plain": [
       "[1] 0.537663"
      ]
     },
     "metadata": {},
     "output_type": "display_data"
    }
   ],
   "source": [
    "intercept_patrick <- summary(model_patrick)$coefficients[1,1]\n",
    "slope_patrick <- summary(model_patrick)$coefficients[2,1]\n",
    "intercept_patrick\n",
    "slope1 <- 1963/894\n",
    "slope2 <- 465/285\n",
    "intercept1 <- 0\n",
    "slope_patrick"
   ]
  },
  {
   "cell_type": "code",
   "execution_count": 145,
   "metadata": {
    "collapsed": false
   },
   "outputs": [
    {
     "data": {
      "image/png": "[encoded data removed]",
      "text/plain": [
       "plot without title"
      ]
     },
     "metadata": {},
     "output_type": "display_data"
    }
   ],
   "source": [
    "plot(data_patrick$G,data_patrick$A,col=\"red\",text(285,465,labels=\"Patrick\"))  #dont use this.\n",
    "abline(intercept_patrick,slope_patrick)"
   ]
  },
  {
   "cell_type": "markdown",
   "metadata": {},
   "source": [
    "<html><b>R squared and p values</b></html>"
   ]
  },
  {
   "cell_type": "code",
   "execution_count": 146,
   "metadata": {
    "collapsed": false
   },
   "outputs": [
    {
     "data": {
      "text/html": [
       "0.115951676728682"
      ],
      "text/latex": [
       "0.115951676728682"
      ],
      "text/markdown": [
       "0.115951676728682"
      ],
      "text/plain": [
       "[1] 0.1159517"
      ]
     },
     "metadata": {},
     "output_type": "display_data"
    },
    {
     "data": {
      "text/html": [
       "0.000493443901793565"
      ],
      "text/latex": [
       "0.000493443901793565"
      ],
      "text/markdown": [
       "0.000493443901793565"
      ],
      "text/plain": [
       "[1] 0.0004934439"
      ]
     },
     "metadata": {},
     "output_type": "display_data"
    }
   ],
   "source": [
    "summary(model_patrick)$r.squared    #r squared\n",
    "summary(model_patrick)$coefficients[2,4]   #p-value"
   ]
  },
  {
   "cell_type": "markdown",
   "metadata": {
    "collapsed": true
   },
   "source": [
    "<html><b>PART D.</b></html>"
   ]
  },
  {
   "cell_type": "code",
   "execution_count": 161,
   "metadata": {
    "collapsed": false
   },
   "outputs": [
    {
     "data": {
      "text/plain": [
       "\n",
       "Call:\n",
       "lm(formula = I(data$A - 1963) ~ I(data$G - 894) + 0)\n",
       "\n",
       "Coefficients:\n",
       "I(data$G - 894)  \n",
       "          2.685  \n"
      ]
     },
     "metadata": {},
     "output_type": "display_data"
    }
   ],
   "source": [
    "model_3 <- lm(I(data$A-1963) ~ I(data$G-894)+0)\n",
    "model_3"
   ]
  },
  {
   "cell_type": "code",
   "execution_count": 163,
   "metadata": {
    "collapsed": false
   },
   "outputs": [
    {
     "data": {
      "text/plain": [
       "\n",
       "Call:\n",
       "lm(formula = I(data$A - 1963) ~ I(data$G - 894) + 0)\n",
       "\n",
       "Residuals:\n",
       "   Min     1Q Median     3Q    Max \n",
       "-902.2 -333.4 -145.4  103.3  703.4 \n",
       "\n",
       "Coefficients:\n",
       "                Estimate Std. Error t value Pr(>|t|)    \n",
       "I(data$G - 894)   2.6847     0.0853   31.48   <2e-16 ***\n",
       "---\n",
       "Signif. codes:  0 '***' 0.001 '**' 0.01 '*' 0.05 '.' 0.1 ' ' 1\n",
       "\n",
       "Residual standard error: 375.7 on 99 degrees of freedom\n",
       "Multiple R-squared:  0.9091,\tAdjusted R-squared:  0.9082 \n",
       "F-statistic: 990.7 on 1 and 99 DF,  p-value: < 2.2e-16\n"
      ]
     },
     "metadata": {},
     "output_type": "display_data"
    },
    {
     "data": {
      "text/html": [
       "0.909145627591712"
      ],
      "text/latex": [
       "0.909145627591712"
      ],
      "text/markdown": [
       "0.909145627591712"
      ],
      "text/plain": [
       "[1] 0.9091456"
      ]
     },
     "metadata": {},
     "output_type": "display_data"
    }
   ],
   "source": [
    "summary(model_3)\n",
    "summary(model_3)$r.squared    #r squared\n",
    "#summary(model_3)$coefficients[2,4]   #p-value"
   ]
  },
  {
   "cell_type": "code",
   "execution_count": 156,
   "metadata": {
    "collapsed": false
   },
   "outputs": [
    {
     "data": {
      "image/png": "[encoded data removed]",
      "text/plain": [
       "plot without title"
      ]
     },
     "metadata": {},
     "output_type": "display_data"
    }
   ],
   "source": [
    "plot(data_patrick$G,data_patrick$A,ylim=c(0,2000),xlim=c(0,900),col=\"red\",text(285,465,labels=\"Patrick\")) \n",
    "abline(intercept1,slope1)"
   ]
  },
  {
   "cell_type": "code",
   "execution_count": 159,
   "metadata": {
    "collapsed": true
   },
   "outputs": [],
   "source": [
    "model_4 <- lm(I(data_patrick$A-465) ~ I(data_patrick$G-285)+0)"
   ]
  },
  {
   "cell_type": "code",
   "execution_count": 164,
   "metadata": {
    "collapsed": false
   },
   "outputs": [
    {
     "data": {
      "text/plain": [
       "\n",
       "Call:\n",
       "lm(formula = I(data_patrick$A - 465) ~ I(data_patrick$G - 285) + \n",
       "    0)\n",
       "\n",
       "Residuals:\n",
       "    Min      1Q  Median      3Q     Max \n",
       "-337.85 -114.55   40.53  165.99  807.05 \n",
       "\n",
       "Coefficients:\n",
       "                        Estimate Std. Error t value Pr(>|t|)    \n",
       "I(data_patrick$G - 285)   1.1346     0.0979   11.59   <2e-16 ***\n",
       "---\n",
       "Signif. codes:  0 '***' 0.001 '**' 0.01 '*' 0.05 '.' 0.1 ' ' 1\n",
       "\n",
       "Residual standard error: 229.8 on 100 degrees of freedom\n",
       "Multiple R-squared:  0.5732,\tAdjusted R-squared:  0.5689 \n",
       "F-statistic: 134.3 on 1 and 100 DF,  p-value: < 2.2e-16\n"
      ]
     },
     "metadata": {},
     "output_type": "display_data"
    },
    {
     "data": {
      "text/html": [
       "0.573181712694336"
      ],
      "text/latex": [
       "0.573181712694336"
      ],
      "text/markdown": [
       "0.573181712694336"
      ],
      "text/plain": [
       "[1] 0.5731817"
      ]
     },
     "metadata": {},
     "output_type": "display_data"
    }
   ],
   "source": [
    "summary(model_4)\n",
    "summary(model_4)$r.squared    #r squared\n"
   ]
  },
  {
   "cell_type": "code",
   "execution_count": 157,
   "metadata": {
    "collapsed": false
   },
   "outputs": [
    {
     "data": {
      "image/png": "[encoded data removed]",
      "text/plain": [
       "plot without title"
      ]
     },
     "metadata": {},
     "output_type": "display_data"
    }
   ],
   "source": [
    "plot(data_patrick$G,data_patrick$A,ylim=c(0,2000),xlim=c(0,900),col=\"red\",text(285,465,labels=\"Patrick\"))  \n",
    "abline(intercept1,slope2)"
   ]
  },
  {
   "cell_type": "code",
   "execution_count": 167,
   "metadata": {
    "collapsed": false
   },
   "outputs": [
    {
     "data": {
      "image/png": "[encoded data removed]",
      "text/plain": [
       "plot without title"
      ]
     },
     "metadata": {},
     "output_type": "display_data"
    }
   ],
   "source": [
    "plot(top10,pch=19,ylim=c(0,2000),xlim=c(0,900),panel.first=abline(h=c(0,50),v=c(0,10),lty=3,col=\"red\"),col=\"red\")  #dont use this.\n",
    "abline(lm(A~G+0, data=top10))"
   ]
  },
  {
   "cell_type": "code",
   "execution_count": 168,
   "metadata": {
    "collapsed": true
   },
   "outputs": [],
   "source": [
    "Rsquare_Pvalue <- data.frame(Model=c(\"Default Model\",\"Passing through Gretzky\",\"Passing through Patrick\",\"Passing through Gretzky and Origin\",\"Passing through Patrick and Origin\"),R=c(0.1082,0.1082,0.1159,0.9091,0.5731), P=c(0.00083,0.00083,0.00049,2.2e-16,2.2e-16))"
   ]
  },
  {
   "cell_type": "code",
   "execution_count": 169,
   "metadata": {
    "collapsed": false
   },
   "outputs": [
    {
     "data": {
      "text/html": [
       "<table>\n",
       "<thead><tr><th scope=col>Model</th><th scope=col>R</th><th scope=col>P</th></tr></thead>\n",
       "<tbody>\n",
       "\t<tr><td>Default Model                     </td><td>0.1082                            </td><td>8.3e-04                           </td></tr>\n",
       "\t<tr><td>Passing through Gretzky           </td><td>0.1082                            </td><td>8.3e-04                           </td></tr>\n",
       "\t<tr><td>Passing through Patrick           </td><td>0.1159                            </td><td>4.9e-04                           </td></tr>\n",
       "\t<tr><td>Passing through Gretzky and Origin</td><td>0.9091                            </td><td>2.2e-16                           </td></tr>\n",
       "\t<tr><td>Passing through Patrick and Origin</td><td>0.5731                            </td><td>2.2e-16                           </td></tr>\n",
       "</tbody>\n",
       "</table>\n"
      ],
      "text/latex": [
       "\\begin{tabular}{r|lll}\n",
       " Model & R & P\\\\\n",
       "\\hline\n",
       "\t Default Model                      & 0.1082                             & 8.3e-04                           \\\\\n",
       "\t Passing through Gretzky            & 0.1082                             & 8.3e-04                           \\\\\n",
       "\t Passing through Patrick            & 0.1159                             & 4.9e-04                           \\\\\n",
       "\t Passing through Gretzky and Origin & 0.9091                             & 2.2e-16                           \\\\\n",
       "\t Passing through Patrick and Origin & 0.5731                             & 2.2e-16                           \\\\\n",
       "\\end{tabular}\n"
      ],
      "text/markdown": [
       "\n",
       "Model | R | P | \n",
       "|---|---|---|---|---|\n",
       "| Default Model                      | 0.1082                             | 8.3e-04                            | \n",
       "| Passing through Gretzky            | 0.1082                             | 8.3e-04                            | \n",
       "| Passing through Patrick            | 0.1159                             | 4.9e-04                            | \n",
       "| Passing through Gretzky and Origin | 0.9091                             | 2.2e-16                            | \n",
       "| Passing through Patrick and Origin | 0.5731                             | 2.2e-16                            | \n",
       "\n",
       "\n"
      ],
      "text/plain": [
       "  Model                              R      P      \n",
       "1 Default Model                      0.1082 8.3e-04\n",
       "2 Passing through Gretzky            0.1082 8.3e-04\n",
       "3 Passing through Patrick            0.1159 4.9e-04\n",
       "4 Passing through Gretzky and Origin 0.9091 2.2e-16\n",
       "5 Passing through Patrick and Origin 0.5731 2.2e-16"
      ]
     },
     "metadata": {},
     "output_type": "display_data"
    }
   ],
   "source": [
    "Rsquare_Pvalue"
   ]
  },
  {
   "cell_type": "markdown",
   "metadata": {},
   "source": [
    "<html><b>\n",
    "<p>R-squared is a statistical measure of how close the data are to the fitted regression line. In general, the higher the R-squared, the better the model fits the data. Therefore, since the model passing through Gretzky and Origin has the highest R squared value, this means this model fits the the best.</p>\n",
    "\n",
    "<p>\n",
    "P values evaluate how well the sample data support that the null hypothesis is true. It measures how compatible the data is with the null hypothesis. a P value is the probability of obtaining an effect at least as extreme as the one in your sample data, assuming the truth of the null hypothesis. High P values: your data are likely with a true null.\n",
    "Low P values: the data is unlikely with a true null.\n",
    "A low P value suggests that your sample provides enough evidence that you can reject the null hypothesis for the entire population. <br> Therefore since the model passing through Gretzky and Origin, and the model passing through Patrick and origin have the lowest p-values, this suggests that it is higly unlikely with a true null hypothesis.</p> \n",
    "</b></html>"
   ]
  },
  {
   "cell_type": "code",
   "execution_count": null,
   "metadata": {
    "collapsed": true
   },
   "outputs": [],
   "source": []
  }
 ],
 "metadata": {
  "kernelspec": {
   "display_name": "R",
   "language": "R",
   "name": "ir"
  },
  "language_info": {
   "codemirror_mode": "r",
   "file_extension": ".r",
   "mimetype": "text/x-r-source",
   "name": "R",
   "pygments_lexer": "r",
   "version": "3.3.2"
  }
 },
 "nbformat": 4,
 "nbformat_minor": 2
}
